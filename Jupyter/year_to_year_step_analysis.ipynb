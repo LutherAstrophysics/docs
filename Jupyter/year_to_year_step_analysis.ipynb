{
 "cells": [
  {
   "cell_type": "code",
   "execution_count": 4,
   "id": "d624d38b",
   "metadata": {},
   "outputs": [],
   "source": [
    "from statistics import mean, StatisticsError\n",
    "\n",
    "from trout.stars import get_star, STAR_START, STAR_END\n",
    "from trout.nights import bad_nights\n",
    "\n",
    "import matplotlib.pyplot as plt\n",
    "import numpy as np"
   ]
  },
  {
   "cell_type": "code",
   "execution_count": 5,
   "id": "0236c77f",
   "metadata": {},
   "outputs": [],
   "source": [
    "def get_mean_flux(data):\n",
    "    \"\"\"\n",
    "    Calculate mean flux for given datapoint ignoring \n",
    "    any zero values in datapoint\n",
    "    Assumes that the data is in the format \n",
    "    return from get_star().select\n",
    "    \"\"\"\n",
    "    fluxes = map(lambda x : x[1], data)\n",
    "    # Filter out the zeros\n",
    "    return mean(filter(lambda x : x > 0, fluxes))"
   ]
  },
  {
   "cell_type": "code",
   "execution_count": 6,
   "id": "8d978bfa",
   "metadata": {},
   "outputs": [],
   "source": [
    "def analyze_star(star_no, data_dict, base_year, delta_years):\n",
    "    query_base_year = (f\"date >= '{base_year}-01-01' and \" + \n",
    "                f\"date < '{base_year + delta_years}-01-01'\")\n",
    "    query_top_year = (f\"date >= '{base_year + delta_years}-01-01' \"+\n",
    "                       f\" and date < '{base_year + delta_years + 1}-01-01'\")\n",
    "    \n",
    "    star = get_star(star_no)\n",
    "    \n",
    "    star.select(query_base_year)\n",
    "    mean_2011 = get_mean_flux(star.selected_data)\n",
    "    \n",
    "    star.select(query_top_year)\n",
    "    mean_2012 = get_mean_flux(star.selected_data)\n",
    "    \n",
    "    # Store data in the the Dict data by star_no as key and\n",
    "    # tuple of results as value. \n",
    "    data_dict[star_no] = (mean_2011, mean_2012)"
   ]
  },
  {
   "cell_type": "code",
   "execution_count": 7,
   "id": "e926d6a9",
   "metadata": {},
   "outputs": [],
   "source": [
    "def start_analysis(data_dict, \n",
    "                   base_year, \n",
    "                   delta_years, \n",
    "                   include_star = lambda x : True, \n",
    "                   quiet=False):\n",
    "    \n",
    "    for i in range(STAR_START, STAR_END):\n",
    "        # Include the star for analysis if include_star(star_num)\n",
    "        # returns true\n",
    "        if not include_star(i):\n",
    "            continue\n",
    "        try:\n",
    "            analyze_star(i, data_dict, base_year, delta_years)\n",
    "        except StatisticsError as e:\n",
    "            # We might get statistics error when trying \n",
    "            # to find mean of empty dataset\n",
    "            continue\n",
    "        # Print some indication as data is being processed\n",
    "        if not quiet: \n",
    "            if i % 200 == 0 : print(f\"Moving to {i}th star\")\n",
    "                \n",
    "    if not quiet: print('Done\\n')"
   ]
  },
  {
   "cell_type": "code",
   "execution_count": 8,
   "id": "18aa887b",
   "metadata": {},
   "outputs": [],
   "source": [
    "# Calculate the increase % from 2011 to 2012 ignoring\n",
    "# datapoints for stars whose data isn't present in both years\n",
    "def calculate_difference(data_dict, difference_data):\n",
    "    for star_no in data_dict.keys():\n",
    "        mean_from_year, mean_to_year = data_dict[star_no]\n",
    "        # Ignore stars with partial attendance\n",
    "        if mean_from_year <= 0 or mean_to_year <= 0:\n",
    "            continue\n",
    "        difference_data[star_no] = (\n",
    "            (mean_to_year - mean_from_year) / mean_from_year) * 100"
   ]
  },
  {
   "cell_type": "code",
   "execution_count": 9,
   "id": "337df5ef",
   "metadata": {
    "scrolled": true
   },
   "outputs": [],
   "source": [
    "# Calcualte statistics of difference data\n",
    "def show_difference_stats(difference_data):\n",
    "    differences = np.array(list(difference_data.values()))\n",
    "    mean_diff, median_diff, std_diff = (np.mean(differences), \n",
    "                                        np.median(differences), \n",
    "                                        np.std(differences))\n",
    "    min_diff, max_diff = np.min(differences), np.max(differences)\n",
    "\n",
    "    print(f\"Mean increase %\", mean_diff)\n",
    "    print(f\"Median increase %\", median_diff)\n",
    "    print(f\"Standard deviation of increase %\", std_diff)\n",
    "    print(f\"Min increase %\", min_diff)\n",
    "    print(f\"Max increase %\", max_diff)\n"
   ]
  },
  {
   "cell_type": "code",
   "execution_count": 10,
   "id": "3f2e0cd7",
   "metadata": {},
   "outputs": [],
   "source": [
    "# Plot results of Increase percentage for stars in given range\n",
    "def show_increase_precentage(difference_data,\n",
    "                             base_year,\n",
    "                             delta_years,\n",
    "                             min_star=STAR_START, \n",
    "                             max_star=STAR_END):\n",
    "    number_difference_list = difference_data.items()\n",
    "    # Filer stars\n",
    "    lists = list(filter(lambda x : \n",
    "                        min_star <= x[0] <= max_star, \n",
    "                        number_difference_list))\n",
    "    x, y = zip(*lists) # unpack a list of pairs into two tuples\n",
    "\n",
    "    plt.plot(x, y, 'b+')\n",
    "    plt.xlabel('Star #')\n",
    "    plt.ylabel('% Inc')\n",
    "    plt.title(f'% Increase from {base_year} ' \n",
    "              + f'to {base_year + delta_years}')\n",
    "    plt.show()"
   ]
  },
  {
   "cell_type": "code",
   "execution_count": 11,
   "id": "3bc2a20e",
   "metadata": {
    "scrolled": false
   },
   "outputs": [],
   "source": [
    "def analyze_step(base_year, \n",
    "                 delta_years, \n",
    "                 include_star=lambda x : True,\n",
    "                 quiet=False, \n",
    "                 show_chart=True,\n",
    "                ):\n",
    "\n",
    "    # These dictionaries will be mutated after analysis\n",
    "    data = {}\n",
    "    data_difference = {}\n",
    "    \n",
    "    if not quiet:\n",
    "        print(f'===========Step Analysis {base_year}' + \n",
    "              f' to {base_year + delta_years}===========')\n",
    "    \n",
    "    # Calculation\n",
    "    start_analysis(data, \n",
    "                   base_year, \n",
    "                   delta_years, \n",
    "                   include_star=include_star, \n",
    "                   quiet=quiet)\n",
    "    calculate_difference(data, data_difference)\n",
    "    \n",
    "    if not quiet:\n",
    "        print('======Stats======')\n",
    "        show_difference_stats(data_difference)\n",
    "        print('=================')\n",
    "    \n",
    "    # Chart\n",
    "    if show_chart:\n",
    "        show_increase_precentage(data_difference, base_year, delta_years)\n",
    "    \n",
    "    return data, data_difference"
   ]
  },
  {
   "cell_type": "code",
   "execution_count": 13,
   "id": "cdb0e274",
   "metadata": {
    "scrolled": false
   },
   "outputs": [
    {
     "data": {
      "image/png": "[encoded data removed]",
      "text/plain": [
       "<Figure size 640x480 with 1 Axes>"
      ]
     },
     "metadata": {},
     "output_type": "display_data"
    }
   ],
   "source": [
    "d, dd = analyze_step(2011, 1, lambda x : x < 100, quiet=True)"
   ]
  },
  {
   "cell_type": "code",
   "execution_count": null,
   "id": "d693c136",
   "metadata": {
    "scrolled": true
   },
   "outputs": [],
   "source": [
    "base_years = [\n",
    " 2005,\n",
    " 2006,\n",
    " 2007,\n",
    " 2008,\n",
    " 2009,\n",
    " 2010,\n",
    " 2011,\n",
    " 2012,\n",
    " 2013,\n",
    " 2014,\n",
    " 2015,\n",
    " 2016,\n",
    " 2019,\n",
    " 2020]\n",
    "\n",
    "for year in base_years:\n",
    "    analyze_step(year, 1, True)"
   ]
  }
 ],
 "metadata": {
  "kernelspec": {
   "display_name": "Python 3 (ipykernel)",
   "language": "python",
   "name": "python3"
  },
  "language_info": {
   "codemirror_mode": {
    "name": "ipython",
    "version": 3
   },
   "file_extension": ".py",
   "mimetype": "text/x-python",
   "name": "python",
   "nbconvert_exporter": "python",
   "pygments_lexer": "ipython3",
   "version": "3.9.7"
  }
 },
 "nbformat": 4,
 "nbformat_minor": 5
}
